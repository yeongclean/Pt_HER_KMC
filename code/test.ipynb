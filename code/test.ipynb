{
 "cells": [
  {
   "cell_type": "code",
   "execution_count": 1,
   "id": "1df3aded-a667-4252-b40c-16a88440d45c",
   "metadata": {
    "execution": {
     "iopub.execute_input": "2025-07-15T07:17:57.382273Z",
     "iopub.status.busy": "2025-07-15T07:17:57.381972Z"
    }
   },
   "outputs": [
    {
     "name": "stdout",
     "output_type": "stream",
     "text": [
      "Requirement already satisfied: huggingface_hub in /home/users/yeong/.conda/envs/uma/lib/python3.10/site-packages (0.33.2)\n",
      "Requirement already satisfied: filelock in /home/users/yeong/.conda/envs/uma/lib/python3.10/site-packages (from huggingface_hub) (3.13.1)\n",
      "Requirement already satisfied: fsspec>=2023.5.0 in /home/users/yeong/.conda/envs/uma/lib/python3.10/site-packages (from huggingface_hub) (2024.6.1)\n",
      "Requirement already satisfied: packaging>=20.9 in /home/users/yeong/.conda/envs/uma/lib/python3.10/site-packages (from huggingface_hub) (25.0)\n",
      "Requirement already satisfied: pyyaml>=5.1 in /home/users/yeong/.conda/envs/uma/lib/python3.10/site-packages (from huggingface_hub) (6.0.2)\n",
      "Requirement already satisfied: requests in /home/users/yeong/.conda/envs/uma/lib/python3.10/site-packages (from huggingface_hub) (2.32.4)\n",
      "Requirement already satisfied: tqdm>=4.42.1 in /home/users/yeong/.conda/envs/uma/lib/python3.10/site-packages (from huggingface_hub) (4.67.1)\n",
      "Requirement already satisfied: typing-extensions>=3.7.4.3 in /home/users/yeong/.conda/envs/uma/lib/python3.10/site-packages (from huggingface_hub) (4.12.2)\n",
      "Requirement already satisfied: hf-xet<2.0.0,>=1.1.2 in /home/users/yeong/.conda/envs/uma/lib/python3.10/site-packages (from huggingface_hub) (1.1.5)\n",
      "Requirement already satisfied: charset_normalizer<4,>=2 in /home/users/yeong/.conda/envs/uma/lib/python3.10/site-packages (from requests->huggingface_hub) (3.4.2)\n",
      "Requirement already satisfied: idna<4,>=2.5 in /home/users/yeong/.conda/envs/uma/lib/python3.10/site-packages (from requests->huggingface_hub) (3.10)\n",
      "Requirement already satisfied: urllib3<3,>=1.21.1 in /home/users/yeong/.conda/envs/uma/lib/python3.10/site-packages (from requests->huggingface_hub) (2.5.0)\n",
      "Requirement already satisfied: certifi>=2017.4.17 in /home/users/yeong/.conda/envs/uma/lib/python3.10/site-packages (from requests->huggingface_hub) (2025.6.15)\n",
      "Note: you may need to restart the kernel to use updated packages.\n"
     ]
    }
   ],
   "source": [
    "pip install huggingface_hub\n"
   ]
  },
  {
   "cell_type": "code",
   "execution_count": 2,
   "id": "c6fa4b4a",
   "metadata": {
    "execution": {
     "iopub.execute_input": "2025-07-15T07:16:38.074267Z",
     "iopub.status.busy": "2025-07-15T07:16:38.073912Z",
     "iopub.status.idle": "2025-07-15T07:16:38.087401Z",
     "shell.execute_reply": "2025-07-15T07:16:38.086934Z",
     "shell.execute_reply.started": "2025-07-15T07:16:38.074251Z"
    }
   },
   "outputs": [
    {
     "name": "stderr",
     "output_type": "stream",
     "text": [
      "Note: Environment variable`HF_TOKEN` is set and is the current active token independently from the token you've just configured.\n"
     ]
    }
   ],
   "source": [
    "from huggingface_hub import login\n",
    "login(token=\"\")"
   ]
  },
  {
   "cell_type": "code",
   "execution_count": 3,
   "id": "10c67ca0",
   "metadata": {},
   "outputs": [
    {
     "data": {
      "application/vnd.jupyter.widget-view+json": {
       "model_id": "95ecfe433e5c4fe2bb92f43dac655e02",
       "version_major": 2,
       "version_minor": 0
      },
      "text/plain": [
       "checkpoints/uma-s-1p1.pt:   0%|          | 0.00/1.17G [00:00<?, ?B/s]"
      ]
     },
     "metadata": {},
     "output_type": "display_data"
    },
    {
     "data": {
      "text/plain": [
       "'checkpoints/uma-s-1p1.pt'"
      ]
     },
     "execution_count": 3,
     "metadata": {},
     "output_type": "execute_result"
    }
   ],
   "source": [
    "from huggingface_hub import hf_hub_download\n",
    "\n",
    "hf_hub_download(\n",
    "    repo_id=\"facebook/UMA\",\n",
    "    filename=\"checkpoints/uma-s-1p1.pt\",\n",
    "    token=\"\", \n",
    "    local_dir=\".\"\n",
    ")\n"
   ]
  },
  {
   "cell_type": "markdown",
   "id": "036848ce",
   "metadata": {},
   "source": [
    "optimizing multi-input POSACR"
   ]
  },
  {
   "cell_type": "code",
   "execution_count": 4,
   "id": "18e5bf38",
   "metadata": {},
   "outputs": [
    {
     "name": "stderr",
     "output_type": "stream",
     "text": [
      "/home/users/yeong/.conda/envs/uma/lib/python3.10/site-packages/fairchem/core/models/uma/escn_md.py:130: FutureWarning: You are using `torch.load` with `weights_only=False` (the current default value), which uses the default pickle module implicitly. It is possible to construct malicious pickle data which will execute arbitrary code during unpickling (See https://github.com/pytorch/pytorch/blob/main/SECURITY.md#untrusted-models for more details). In a future release, the default value for `weights_only` will be flipped to `True`. This limits the functions that could be executed during unpickling. Arbitrary objects will no longer be allowed to be loaded via this mode unless they are explicitly allowlisted by the user via `torch.serialization.add_safe_globals`. We recommend you start setting `weights_only=True` for any use case where you don't have full control of the loaded file. Please open an issue on GitHub for any issues related to this experimental feature.\n",
      "  Jd_list = torch.load(os.path.join(os.path.dirname(__file__), \"Jd.pt\"))\n"
     ]
    },
    {
     "name": "stdout",
     "output_type": "stream",
     "text": [
      "[POSCAR_3] E = -188.9880 eV\n",
      "[POSCAR_9] E = -189.9334 eV\n",
      "[POSCAR_25] E = -189.8627 eV\n",
      "[POSCAR_17] E = -189.0277 eV\n",
      "[POSCAR_31] E = -189.2697 eV\n",
      "[POSCAR_10] E = -189.8946 eV\n",
      "[POSCAR_22] E = -190.0162 eV\n",
      "[POSCAR_28] E = -190.0158 eV\n",
      "[POSCAR_4] E = -188.9863 eV\n",
      "[POSCAR_26] E = -189.3171 eV\n",
      "[POSCAR_0] E = -190.1228 eV\n",
      "[POSCAR_14] E = -190.2380 eV\n",
      "[POSCAR_19] E = -189.0302 eV\n",
      "[POSCAR_13] E = -189.8576 eV\n",
      "[POSCAR_7] E = -189.9574 eV\n",
      "[POSCAR_21] E = -189.9336 eV\n",
      "[POSCAR_11] E = -189.1073 eV\n",
      "[POSCAR_29] E = -189.2125 eV\n",
      "[POSCAR_23] E = -190.0200 eV\n",
      "[POSCAR_5] E = -189.0150 eV\n",
      "[POSCAR_30] E = -189.2686 eV\n",
      "[POSCAR_8] E = -190.2402 eV\n",
      "[POSCAR_2] E = -190.0197 eV\n",
      "[POSCAR_24] E = -189.8890 eV\n",
      "[POSCAR_16] E = -189.2084 eV\n",
      "[POSCAR_12] E = -189.1746 eV\n",
      "[POSCAR_18] E = -189.0021 eV\n",
      "[POSCAR_6] E = -190.2367 eV\n",
      "[POSCAR_20] E = -190.2379 eV\n",
      "[POSCAR_27] E = -189.3182 eV\n",
      "[POSCAR_1] E = -190.0401 eV\n",
      "[POSCAR_15] E = -189.1763 eV\n",
      "\\ best structure : POSCAR_8, E = -190.2402 eV\n",
      "path: /home/users/yeong/work/25_s/VASPsol++/03.oc20/00-211/output_H+/best_POSCAR\n"
     ]
    }
   ],
   "source": [
    "import os\n",
    "from ase.io import read, write\n",
    "from fairchem.core import pretrained_mlip, FAIRChemCalculator\n",
    "from ase.optimize import LBFGS\n",
    "\n",
    "# set the path\n",
    "input_dir = \"/home/users/yeong/work/25_s/VASPsol++/03.oc20/00-211/input_H+\"  #directory\n",
    "output_dir = \"/home/users/yeong/work/25_s/VASPsol++/03.oc20/00-211/output_H+\"\n",
    "os.makedirs(output_dir, exist_ok=True)\n",
    "\n",
    "# setting calculator\n",
    "predictor = pretrained_mlip.get_predict_unit(\"uma-s-1p1\", device=\"cuda\")\n",
    "\n",
    "# list for saving the results\n",
    "results = []\n",
    "\n",
    "# for loop\n",
    "for fname in os.listdir(input_dir):\n",
    "    if not fname.startswith(\"POSCAR\"):\n",
    "        continue\n",
    "    in_path = os.path.join(input_dir, fname)\n",
    "    atoms = read(in_path, format=\"vasp\")\n",
    "\n",
    "    # optimizing\n",
    "    calc = FAIRChemCalculator(predictor, task_name=\"oc20\")\n",
    "    atoms.calc = calc\n",
    "\n",
    "    opt = LBFGS(atoms, logfile=None)\n",
    "    opt.run(fmax=0.05, steps=100)\n",
    "\n",
    "    energy = atoms.get_potential_energy()\n",
    "    out_path = os.path.join(output_dir, f\"{fname}_opt.vasp\")\n",
    "    write(out_path, atoms, format=\"vasp\")\n",
    "\n",
    "    results.append({\n",
    "        \"file\": out_path,\n",
    "        \"energy\": energy,\n",
    "        \"name\": fname\n",
    "    })\n",
    "    print(f\"[{fname}] E = {energy:.4f} eV\")\n",
    "\n",
    "# select the best structure\n",
    "best = sorted(results, key=lambda x: x[\"energy\"])[0]\n",
    "best_path = os.path.join(output_dir, \"best_POSCAR\")\n",
    "write(best_path, read(best[\"file\"], format=\"vasp\"), format=\"vasp\")\n",
    "\n",
    "print(f\"\\ best structure : {best['name']}, E = {best['energy']:.4f} eV\")\n",
    "print(f\"path: {best_path}\")\n"
   ]
  },
  {
   "cell_type": "code",
   "execution_count": null,
   "id": "e589256c",
   "metadata": {},
   "outputs": [],
   "source": []
  }
 ],
 "metadata": {
  "kernelspec": {
   "display_name": "uma",
   "language": "python",
   "name": "python3"
  },
  "language_info": {
   "codemirror_mode": {
    "name": "ipython",
    "version": 3
   },
   "file_extension": ".py",
   "mimetype": "text/x-python",
   "name": "python",
   "nbconvert_exporter": "python",
   "pygments_lexer": "ipython3",
   "version": "3.10.18"
  }
 },
 "nbformat": 4,
 "nbformat_minor": 5
}
